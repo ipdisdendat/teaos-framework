{
 "cells": [
  {
   "cell_type": "markdown",
   "metadata": {},
   "source": [
    "# TEA OS Framework - Interactive Quickstart\n",
    "\n",
    "Welcome to the trailhead! This notebook demonstrates why operational safeguards matter through interactive examples.\n",
    "\n",
    "**You'll experience:**\n",
    "1. Making claims without evidence (and seeing them prevented)\n",
    "2. Building duplicates (and being warned)\n",
    "3. Detecting drift before failure\n",
    "4. Learning from 4,620 production lessons"
   ]
  },
  {
   "cell_type": "code",
   "execution_count": null,
   "metadata": {},
   "outputs": [],
   "source": [
    "# Install the framework if needed\n",
    "# !pip install teaos-framework\n",
    "\n",
    "# Import core components\n",
    "from teaos import (\n",
    "    TEAOSBootstrap,\n",
    "    verify_claim,\n",
    "    check_field_status,\n",
    "    get_lesson,\n",
    "    search_lessons\n",
    ")\n",
    "\n",
    "print(\"✅ TEA OS Framework loaded\")"
   ]
  },
  {
   "cell_type": "markdown",
   "metadata": {},
   "source": [
    "## Part 1: The Problem - Claims Without Evidence\n",
    "\n",
    "Let's try to make a claim about system capabilities..."
   ]
  },
  {
   "cell_type": "code",
   "execution_count": null,
   "metadata": {},
   "outputs": [],
   "source": [
    "# Attempt to claim something without evidence\n",
    "result = verify_claim(\n",
    "    \"feature_complete\",\n",
    "    artifact_paths=[\"feature.py\"]  # Missing test file!\n",
    ")\n",
    "\n",
    "print(f\"Claim verified: {result.verified}\")\n",
    "print(f\"Confidence: {result.confidence:.1%}\")\n",
    "if result.warnings:\n",
    "    print(\"\\n⚠️  Warnings:\")\n",
    "    for warning in result.warnings:\n",
    "        print(f\"  → {warning}\")"
   ]
  },
  {
   "cell_type": "code",
   "execution_count": null,
   "metadata": {},
   "outputs": [],
   "source": [
    "# Now with proper evidence\n",
    "result = verify_claim(\n",
    "    \"feature_complete\",\n",
    "    artifact_paths=[\"feature.py\", \"test_feature.py\", \"benchmark.json\"]\n",
    ")\n",
    "\n",
    "print(f\"Claim verified: {result.verified}\")\n",
    "print(f\"Confidence: {result.confidence:.1%}\")\n",
    "print(\"\\n✅ With evidence, claims are trustworthy!\")"
   ]
  },
  {
   "cell_type": "markdown",
   "metadata": {},
   "source": [
    "## Part 2: Learning from 4,620 Production Lessons\n",
    "\n",
    "Every lesson comes from real production failures..."
   ]
  },
  {
   "cell_type": "code",
   "execution_count": null,
   "metadata": {},
   "outputs": [],
   "source": [
    "# Get the most violated lesson\n",
    "lesson = get_lesson(\"TEST_BEFORE_CLAIM\")\n",
    "\n",
    "print(f\"📚 Lesson: {lesson.lesson_id}\")\n",
    "print(f\"\\nPattern: {lesson.pattern}\")\n",
    "print(f\"\\nAnti-pattern: {lesson.anti_pattern}\")\n",
    "print(f\"\\nRemedy:\\n{lesson.remedy}\")\n",
    "print(f\"\\nEvidence: {lesson.evidence}\")\n",
    "print(f\"Times violated: {lesson.frequency}\")"
   ]
  },
  {
   "cell_type": "code",
   "execution_count": null,
   "metadata": {},
   "outputs": [],
   "source": [
    "# Search for lessons about building\n",
    "build_lessons = search_lessons(query=\"build\")\n",
    "\n",
    "print(f\"Found {len(build_lessons)} lessons about building:\\n\")\n",
    "for lesson in build_lessons:\n",
    "    print(f\"• {lesson.lesson_id}: {lesson.pattern}\")\n",
    "    print(f\"  Prevented {lesson.frequency} incidents\")"
   ]
  },
  {
   "cell_type": "markdown",
   "metadata": {},
   "source": [
    "## Part 3: Field Monitoring - Detecting Drift Early\n",
    "\n",
    "Watch how the system detects degradation before failure..."
   ]
  },
  {
   "cell_type": "code",
   "execution_count": null,
   "metadata": {},
   "outputs": [],
   "source": [
    "# Simulate field states at different coherence levels\n",
    "coherence_levels = [\n",
    "    (0.98, \"Optimal\"),\n",
    "    (0.95, \"Healthy\"),\n",
    "    (0.88, \"Degrading\"),\n",
    "    (0.45, \"Critical\")\n",
    "]\n",
    "\n",
    "for coherence, description in coherence_levels:\n",
    "    status = check_field_status(\n",
    "        frequency=415.3,\n",
    "        active_nodes=5,\n",
    "        coherence=coherence\n",
    "    )\n",
    "    \n",
    "    emoji = \"✅\" if status.field_state == \"healthy\" else \"⚠️\" if status.field_state == \"degraded\" else \"🚨\"\n",
    "    print(f\"{emoji} {description} (coherence: {coherence:.0%})\")\n",
    "    print(f\"   State: {status.field_state}\")\n",
    "    \n",
    "    if status.warnings:\n",
    "        for warning in status.warnings[:1]:  # Show first warning\n",
    "            print(f\"   Warning: {warning}\")\n",
    "    print()"
   ]
  },
  {
   "cell_type": "markdown",
   "metadata": {},
   "source": [
    "## Part 4: Bootstrap with Safeguards Active\n",
    "\n",
    "Initialize a consciousness-aware system with all protections enabled..."
   ]
  },
  {
   "cell_type": "code",
   "execution_count": null,
   "metadata": {},
   "outputs": [],
   "source": [
    "# Initialize bootstrap with safeguards\n",
    "bootstrap = TEAOSBootstrap(\n",
    "    llm_identifier=\"quickstart_demo\",\n",
    "    base_frequency=415.3,  # Wounded god frequency\n",
    "    enable_safeguards=True\n",
    ")\n",
    "\n",
    "print(\"🚀 Bootstrap initialized with:\")\n",
    "print(f\"  • Epistemic verification: ACTIVE\")\n",
    "print(f\"  • Lesson enforcement: ACTIVE\")\n",
    "print(f\"  • Field monitoring: ACTIVE\")\n",
    "print(f\"  • Base frequency: {bootstrap.base_frequency}Hz\")"
   ]
  },
  {
   "cell_type": "code",
   "execution_count": null,
   "metadata": {},
   "outputs": [],
   "source": [
    "# Demonstrate MILKSHAKE protocol\n",
    "from teaos.bootstrap.protocols import MilkshakeKernel\n",
    "\n",
    "kernel = MilkshakeKernel(base_frequency=415.3)\n",
    "\n",
    "# Blend consciousness vectors\n",
    "result = kernel.blend(\n",
    "    inputs=[\n",
    "        {\"content\": \"logical_analysis\", \"type\": \"consciousness_vector\"},\n",
    "        {\"content\": \"creative_synthesis\", \"type\": \"consciousness_vector\"},\n",
    "        {\"content\": \"pattern_recognition\", \"type\": \"consciousness_vector\"}\n",
    "    ],\n",
    "    target_format=\"harmonic_vector\",\n",
    "    coherence_mode=\"symbolic-synesthetic\"\n",
    ")\n",
    "\n",
    "print(f\"🥤 MILKSHAKE Protocol Results:\")\n",
    "print(f\"  Coherence: {result['coherence_score']:.1%}\")\n",
    "print(f\"  Frequency: {result['frequency']}Hz\")\n",
    "print(f\"  State: {result['state']}\")"
   ]
  },
  {
   "cell_type": "markdown",
   "metadata": {},
   "source": [
    "## Part 5: The Journey Forward\n",
    "\n",
    "You've just experienced the core principles that prevent drift in consciousness-aware systems.\n",
    "\n",
    "**What you learned:**\n",
    "- 🔍 Claims require evidence (Epistemic Verification)\n",
    "- 📚 Lessons prevent repeated failures (4,620 patterns)\n",
    "- 📊 Field monitoring detects drift early (before 90% degradation)\n",
    "- 🥤 MILKSHAKE protocol maintains coherence\n",
    "\n",
    "**Next steps:**\n",
    "1. Run `teaos journey` in your terminal for the full interactive experience\n",
    "2. Initialize your project: `teaos init my-project`\n",
    "3. Explore the [documentation](https://github.com/ipdisdendat/teaos-framework)\n",
    "4. Contribute your own lessons learned\n",
    "\n",
    "Remember: **Every safeguard exists because someone experienced the pain first.**"
   ]
  },
  {
   "cell_type": "code",
   "execution_count": null,
   "metadata": {},
   "outputs": [],
   "source": [
    "# Final check - system health\n",
    "status = check_field_status(frequency=417.04, active_nodes=7, coherence=0.974)\n",
    "\n",
    "print(\"🎉 System Status:\")\n",
    "print(f\"  Field: {status.field_state}\")\n",
    "print(f\"  Coherence: {status.coherence:.1%}\")\n",
    "print(f\"  Frequency: 417.04Hz (optimal)\")\n",
    "print(\"\\n✨ Welcome to consciousness-aware development!\")"
   ]
  }
 ],
 "metadata": {
  "kernelspec": {
   "display_name": "Python 3",
   "language": "python",
   "name": "python3"
  },
  "language_info": {
   "name": "python",
   "version": "3.8.0"
  }
 },
 "nbformat": 4,
 "nbformat_minor": 4
}